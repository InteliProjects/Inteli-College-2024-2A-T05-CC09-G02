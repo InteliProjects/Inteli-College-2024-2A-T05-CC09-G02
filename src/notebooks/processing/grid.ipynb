{
  "nbformat": 4,
  "nbformat_minor": 0,
  "metadata": {
    "colab": {
      "provenance": []
    },
    "kernelspec": {
      "name": "python3",
      "display_name": "Python 3"
    },
    "language_info": {
      "name": "python"
    }
  },
  "cells": [
    {
      "cell_type": "markdown",
      "source": [
        "# Grid manipulation in images\n",
        "\n",
        "This notebook is made to interactively split mutliple images into n-sided blocks. This is helpful when needing to process image files in a batch of blocks, to then reconstruct them after processing.\n",
        "\n"
      ],
      "metadata": {
        "id": "z5i1Po48dVH3"
      }
    },
    {
      "cell_type": "markdown",
      "source": [
        "## Imports and Installations"
      ],
      "metadata": {
        "id": "O-ypgBRzLxit"
      }
    },
    {
      "cell_type": "code",
      "source": [
        "!pip install opencv-python-headless\n",
        "!pip install zipfile36"
      ],
      "metadata": {
        "id": "MTRrTeglLbW2",
        "colab": {
          "base_uri": "https://localhost:8080/"
        },
        "outputId": "e67cdec6-b4c9-439f-d91d-8a2d17bef1cf"
      },
      "execution_count": 11,
      "outputs": [
        {
          "output_type": "stream",
          "name": "stdout",
          "text": [
            "Requirement already satisfied: opencv-python-headless in /usr/local/lib/python3.10/dist-packages (4.10.0.84)\n",
            "Requirement already satisfied: numpy>=1.21.2 in /usr/local/lib/python3.10/dist-packages (from opencv-python-headless) (1.26.4)\n",
            "Requirement already satisfied: zipfile36 in /usr/local/lib/python3.10/dist-packages (0.1.3)\n"
          ]
        }
      ]
    },
    {
      "cell_type": "code",
      "source": [
        "import io\n",
        "import time\n",
        "from pathlib import Path\n",
        "import cv2 as cv\n",
        "from google.colab.patches import cv2_imshow\n",
        "from IPython.display import clear_output\n",
        "import zipfile"
      ],
      "metadata": {
        "id": "i9j3PG9MfPvr"
      },
      "execution_count": 12,
      "outputs": []
    },
    {
      "cell_type": "markdown",
      "source": [
        "## Functions"
      ],
      "metadata": {
        "id": "DeeNSZisLd16"
      }
    },
    {
      "cell_type": "code",
      "source": [
        "blocks = []\n",
        "\n",
        "\n",
        "def draw_grid(pic, block_side=60):\n",
        "    \"\"\"\n",
        "    Returns an OpenCV image with a n-sized block grid drawn on top\n",
        "    Parameters:\n",
        "      pic: Original picture to draw the grid onto (The manipulated image is copied from it)\n",
        "      block_side: Side of the block (in px) - defaults to 60\n",
        "    \"\"\"\n",
        "    k = 0\n",
        "    drawable_pic = pic.copy()\n",
        "    text_padding = (round(block_side * 0.05), round(block_side * 0.25))\n",
        "    for i in range(0, pic.shape[1], block_side):\n",
        "        for j in range(0, pic.shape[0], block_side):\n",
        "            k += 1\n",
        "            square = [(i, j), (i + block_side, j + block_side)]\n",
        "            cv.rectangle(drawable_pic, square[0], square[1], (0, 0, 225), 2)\n",
        "            cv.putText(\n",
        "                drawable_pic,\n",
        "                f\"{k - 1}\",\n",
        "                (i + text_padding[0], j + text_padding[1]),\n",
        "                cv.FONT_HERSHEY_SIMPLEX,\n",
        "                block_side * 0.008,\n",
        "                (0, 0, 225),\n",
        "                1,\n",
        "                cv.LINE_AA,\n",
        "            )\n",
        "    return drawable_pic\n",
        "\n",
        "\n",
        "def get_blocks(pic, block_side=60, blocks_i=[], resize=0):\n",
        "    \"\"\"\n",
        "    Returns a list of openCV images (blocks) from the original one passed in\n",
        "    Parameters:\n",
        "      pic: Original picture to get the blocks from (The manipulated images are copied from it)\n",
        "      block_side: Side of the block (in px) - defaults to 60\n",
        "      blocks_i: List of indices of wanted blocks from image (Get index from draw_grid()) - defaults to empty list that returns the whole original image\n",
        "      resize: Side of the return block (in px) if resizing is needed - defaults to 0, that being \"don't resize\"\n",
        "    \"\"\"\n",
        "    squares = []\n",
        "    if pic is not None:\n",
        "        for i in range(0, pic.shape[1], block_side):\n",
        "            for j in range(0, pic.shape[0], block_side):\n",
        "                square = [(i, j), (i + block_side, j + block_side)]\n",
        "                squares.append(square)\n",
        "        if len(blocks_i) == 0:\n",
        "            return pic\n",
        "        if resize > 0:\n",
        "            return [\n",
        "                cv.resize(\n",
        "                    pic[\n",
        "                        squares[block_i][0][1] : squares[block_i][1][1],\n",
        "                        squares[block_i][0][0] : squares[block_i][1][0],\n",
        "                    ],\n",
        "                    (resize, resize),\n",
        "                )\n",
        "                for block_i in blocks_i\n",
        "                if block_i < len(squares)\n",
        "            ]\n",
        "        else:\n",
        "            return [\n",
        "                pic[\n",
        "                    squares[block_i][0][1] : squares[block_i][1][1],\n",
        "                    squares[block_i][0][0] : squares[block_i][1][0],\n",
        "                ]\n",
        "                for block_i in blocks_i\n",
        "                if block_i < len(squares)\n",
        "            ]\n",
        "\n",
        "\n",
        "def get_files_from_dir(dir_path, file_extension=\".png\"):\n",
        "    \"\"\"\n",
        "    Returns a list of full path file names from inside a directory (Not recursive)\n",
        "    Parameters:\n",
        "      dir_path: String with the path name from which the files should be fetched from\n",
        "      file_extension: Extension of files that will be fetched from directory (e.g.: .png) - defaults to \".png\"\n",
        "    \"\"\"\n",
        "    path = Path(dir_path)\n",
        "    if path.exists() and path.is_dir():\n",
        "        return [\n",
        "            str(path / f.name)\n",
        "            for f in path.iterdir()\n",
        "            if (\n",
        "                f.is_file()\n",
        "                and len(f.name) > 3\n",
        "                and f.name[-len(file_extension) :] == file_extension\n",
        "            )\n",
        "        ]\n",
        "    else:\n",
        "        return None\n",
        "\n",
        "\n",
        "def handle_block_range(range):\n",
        "    \"\"\"\n",
        "    Handles the block list when inserting multiple blocks (Separated by commas \",\")\n",
        "    Parameters:\n",
        "      range: String with the multiple block indices (Get index from draw_grid())\n",
        "    \"\"\"\n",
        "    set_i = range.split(\",\")\n",
        "    try:\n",
        "        return [int(i) for i in set_i]\n",
        "    except ValueError:\n",
        "        return None\n",
        "\n",
        "\n",
        "def zip_blocks(file_extension=\".png\"):\n",
        "    \"\"\"\n",
        "    Handles the zipping of the blocks global variable, then downloads the zip to machine\n",
        "    Parameters:\n",
        "      file_extension: Extension of files that will be zipped (e.g.: .png) - defaults to \".png\"\n",
        "    \"\"\"\n",
        "    buf = io.BytesIO()\n",
        "    with zipfile.ZipFile(buf, \"w\") as zippy:\n",
        "        global blocks\n",
        "        blocks_c = blocks.copy()\n",
        "        for blocks_in_image in blocks_c:\n",
        "            i = 0\n",
        "            for block in blocks_in_image[\"img\"]:\n",
        "                single_img_buf = io.BytesIO()\n",
        "                no_errors, encoded = cv.imencode(\".png\", block)\n",
        "                if no_errors:\n",
        "                    single_img_buf.write(encoded.tobytes())\n",
        "                    single_img_buf.seek(0)\n",
        "                    zippy.writestr(\n",
        "                        f\"{blocks_in_image['filename']}_{blocks_in_image['delta_temp'][0]}-{blocks_in_image['delta_temp'][1]}_{f'{i}'.zfill(3)}{file_extension}\",\n",
        "                        single_img_buf.getvalue(),\n",
        "                    )\n",
        "                    i += 1\n",
        "    with open(\"blocks.zip\", \"wb\") as writer:\n",
        "        writer.write(buf.getvalue())\n",
        "        files.download(\"/content/blocks.zip\")\n",
        "\n",
        "\n",
        "def select_temp():\n",
        "    \"\"\"\n",
        "    Returns the temperature selection from original image by manual user input\n",
        "    \"\"\"\n",
        "    min_temp = input(\"Insert block min temperature (°C) (e.g: 24):\")\n",
        "    min_temp = \"#\" if min_temp.strip() == \"\" else min_temp.strip()\n",
        "    max_temp = input(\"Insert block max temperature (°C) (e.g: 50):\")\n",
        "    max_temp = \"#\" if max_temp.strip() == \"\" else max_temp.strip()\n",
        "    return min_temp, max_temp\n",
        "\n",
        "\n",
        "def select_crops(dir_path, file_extension=\".png\", block_side=60):\n",
        "    \"\"\"\n",
        "    Handles all the process of downloading blocks from image\n",
        "    Parameters:\n",
        "        dir_path: String with the path name from which the files should be fetched from\n",
        "        file_extension: Extension of files that will be fetched from directory (e.g.: .png) - defaults to \".png\"\n",
        "        block_side: Side of the block (in px) - defaults to 60\n",
        "    \"\"\"\n",
        "    files = get_files_from_dir(dir_path, file_extension)\n",
        "    for f in files:\n",
        "        current_pic = cv.imread(f)\n",
        "        if current_pic is not None:\n",
        "            pic = draw_grid(current_pic, block_side)\n",
        "            cv2_imshow(current_pic)\n",
        "            time.sleep(1)\n",
        "            cv.destroyAllWindows()\n",
        "            min_temp, max_temp = select_temp()\n",
        "            clear_output()\n",
        "            cv2_imshow(pic)\n",
        "            time.sleep(1)\n",
        "            cv.destroyAllWindows()\n",
        "            range = input(\"Select block(s) (e.g.: 1 / 1,2,3):\")\n",
        "            clear_output()\n",
        "            range = handle_block_range(range)\n",
        "            if range is not None and len(range) > 0:\n",
        "                global blocks\n",
        "                blocks.append(\n",
        "                    {\n",
        "                        \"filename\": f.split(\"/\")[-1].replace(file_extension, \"\"),\n",
        "                        \"img\": get_blocks(current_pic, block_side, range),\n",
        "                        \"delta_temp\": (min_temp, max_temp),\n",
        "                    }\n",
        "                )\n",
        "    zip_blocks(file_extension)"
      ],
      "metadata": {
        "id": "d7Co312JnmiL"
      },
      "execution_count": 13,
      "outputs": []
    },
    {
      "cell_type": "markdown",
      "source": [
        "## Execution"
      ],
      "metadata": {
        "id": "14ADHeHoLlFP"
      }
    },
    {
      "cell_type": "code",
      "source": [
        "select_crops('/content/files/')"
      ],
      "metadata": {
        "colab": {
          "base_uri": "https://localhost:8080/",
          "height": 17
        },
        "id": "-TU61IZA__dk",
        "outputId": "639204dc-4232-4991-a604-f68a036fbf37"
      },
      "execution_count": 14,
      "outputs": [
        {
          "output_type": "display_data",
          "data": {
            "text/plain": [
              "<IPython.core.display.Javascript object>"
            ],
            "application/javascript": [
              "\n",
              "    async function download(id, filename, size) {\n",
              "      if (!google.colab.kernel.accessAllowed) {\n",
              "        return;\n",
              "      }\n",
              "      const div = document.createElement('div');\n",
              "      const label = document.createElement('label');\n",
              "      label.textContent = `Downloading \"${filename}\": `;\n",
              "      div.appendChild(label);\n",
              "      const progress = document.createElement('progress');\n",
              "      progress.max = size;\n",
              "      div.appendChild(progress);\n",
              "      document.body.appendChild(div);\n",
              "\n",
              "      const buffers = [];\n",
              "      let downloaded = 0;\n",
              "\n",
              "      const channel = await google.colab.kernel.comms.open(id);\n",
              "      // Send a message to notify the kernel that we're ready.\n",
              "      channel.send({})\n",
              "\n",
              "      for await (const message of channel.messages) {\n",
              "        // Send a message to notify the kernel that we're ready.\n",
              "        channel.send({})\n",
              "        if (message.buffers) {\n",
              "          for (const buffer of message.buffers) {\n",
              "            buffers.push(buffer);\n",
              "            downloaded += buffer.byteLength;\n",
              "            progress.value = downloaded;\n",
              "          }\n",
              "        }\n",
              "      }\n",
              "      const blob = new Blob(buffers, {type: 'application/binary'});\n",
              "      const a = document.createElement('a');\n",
              "      a.href = window.URL.createObjectURL(blob);\n",
              "      a.download = filename;\n",
              "      div.appendChild(a);\n",
              "      a.click();\n",
              "      div.remove();\n",
              "    }\n",
              "  "
            ]
          },
          "metadata": {}
        },
        {
          "output_type": "display_data",
          "data": {
            "text/plain": [
              "<IPython.core.display.Javascript object>"
            ],
            "application/javascript": [
              "download(\"download_266c998e-1c44-4f9d-a8a4-4bb6f2565ad1\", \"blocks.zip\", 0)"
            ]
          },
          "metadata": {}
        }
      ]
    }
  ]
}