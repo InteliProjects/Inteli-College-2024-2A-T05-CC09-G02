{
 "cells": [
  {
   "cell_type": "code",
   "execution_count": null,
   "metadata": {},
   "outputs": [],
   "source": [
    "import cv2\n",
    "import os\n",
    "from google.colab.patches import cv2_imshow\n",
    "\n",
    "# input_directory = '' aqui coloquei o caminho de onde as imagens eram puxadas\n",
    "# output_directory = '' aqui coloquei o caminho de onde as imagens com contraste eram guardadas\n",
    "\n",
    "\n",
    "clahe = cv2.createCLAHE(clipLimit=6, tileGridSize=(8, 8))\n",
    "\n",
    "\n",
    "for filename in os.listdir(input_directory):\n",
    "\n",
    "    input_path = os.path.join(input_directory, filename)\n",
    "    img = cv2.imread(input_path, cv2.IMREAD_GRAYSCALE)\n",
    "\n",
    "\n",
    "    if img is not None:\n",
    "        img_clahe = clahe.apply(img)\n",
    "        cv2.imshow(img)\n",
    "        cv2.imshow(img_clahe)\n",
    "        constrasted_filename = f'contrast_{filename}'\n",
    "        output_path = os.path.join(output_directory, constrasted_filename)\n",
    "        cv2.imwrite(output_path, img_clahe)\n",
    "    else:\n",
    "        print(f'Imagem com erro {filename}')\n"
   ]
  }
 ],
 "metadata": {
  "language_info": {
   "name": "python"
  }
 },
 "nbformat": 4,
 "nbformat_minor": 2
}
